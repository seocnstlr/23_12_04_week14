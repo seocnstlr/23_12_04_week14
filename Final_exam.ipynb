{
  "nbformat": 4,
  "nbformat_minor": 0,
  "metadata": {
    "colab": {
      "provenance": [],
      "authorship_tag": "ABX9TyMSnSi5AzeuiT3ek2EIHPQD",
      "include_colab_link": true
    },
    "kernelspec": {
      "name": "python3",
      "display_name": "Python 3"
    },
    "language_info": {
      "name": "python"
    }
  },
  "cells": [
    {
      "cell_type": "markdown",
      "metadata": {
        "id": "view-in-github",
        "colab_type": "text"
      },
      "source": [
        "<a href=\"https://colab.research.google.com/github/seocnstlr/Final-exam/blob/main/Final_exam.ipynb\" target=\"_parent\"><img src=\"https://colab.research.google.com/assets/colab-badge.svg\" alt=\"Open In Colab\"/></a>"
      ]
    },
    {
      "cell_type": "code",
      "execution_count": 2,
      "metadata": {
        "id": "q2sBk8gWKUCg"
      },
      "outputs": [],
      "source": [
        "#<오픈소스프로그래밍 기말 프로젝트>\n",
        "#\n",
        "# ● 아래의 코드를 수정 혹은 프로그래밍하여 문제를 해결하시오.\n",
        "# ● 문제의 점수는 각각 표시되며, 부분점수가 존재합니다.\n",
        "#\n",
        "# 학번 : 20211981 이름 : 서예원\n",
        "\n",
        "import os\n",
        "import time"
      ]
    },
    {
      "cell_type": "code",
      "source": [
        "# Q.1 10점\n",
        "#\n",
        "# 문자열 my_string과 target이 매개변수로 주어질 때,\n",
        "# target이 문자열 my_string의 부분 문자열이라면 1을,\n",
        "# 아니라면 0을 return 하는 solution 함수를 작성하시오.\n",
        "#\n",
        "# 제한사항\n",
        "# 1 ≤ my_string 의 길이 ≤ 100\n",
        "# my_string 은 영소문자로만 이루어져 있습니다.\n",
        "# 1 ≤ target 의 길이 ≤ 100\n",
        "# target 은 영소문자로만 이루어져 있습니다.\n",
        "\n",
        "my_string = 'python is fun'\n",
        "target = 'python'\n",
        "\n",
        "def solution(my_string, target):\n",
        "  if target in my_string:\n",
        "    answer = 1\n",
        "    return answer\n",
        "\n",
        "  else :\n",
        "    not_answer = 0\n",
        "    return not_answer\n",
        "\n",
        "result = solution(my_string, target)\n",
        "print(result)"
      ],
      "metadata": {
        "colab": {
          "base_uri": "https://localhost:8080/"
        },
        "id": "gV_B9xoiLA5g",
        "outputId": "e805a778-57a4-4d30-a62f-a7e7b4320c00"
      },
      "execution_count": 3,
      "outputs": [
        {
          "output_type": "stream",
          "name": "stdout",
          "text": [
            "1\n"
          ]
        }
      ]
    },
    {
      "cell_type": "code",
      "source": [
        "# Q.2 10점\n",
        "#\n",
        "# 모스부호 해독 프로그램 만들기\n",
        "# 문자열 letter 가 매개변수로 주어질 때,\n",
        "# letter 영어 소문자로 바꾼 문자열을 return 하는\n",
        "# solution 함수를 완성하시오.\n",
        "#\n",
        "# 제한사항\n",
        "# 1 ≤ letter 의 길이 ≤ 1,000\n",
        "# letter 의 모스부호는 공백으로 나누어져 있습니다.\n",
        "# letter 에 공백은 연속으로 두 개 이상 존재하지 않습니다.\n",
        "#\n",
        "# letter = 여러분의 좌우명 또는 인상 깊었던 말을 쓰시오.\n",
        "\n",
        "code = \".-.. .. ..-. . .. ... ... .... --- .-. -\" # Life is short(공백 제거)\n",
        "\n",
        "def solution(letter):\n",
        "    morse = {\n",
        "    '.-':'a','-...':'b','-.-.':'c','-..':'d','.':'e','..-.':'f',\n",
        "    '--.':'g','....':'h','..':'i','.---':'j','-.-':'k','.-..':'l',\n",
        "    '--':'m','-.':'n','---':'o','.--.':'p','--.-':'q','.-.':'r',\n",
        "    '...':'s','-':'t','..-':'u','...-':'v','.--':'w','-..-':'x',\n",
        "    '-.--':'y','--..':'z'}\n",
        "\n",
        "    word = letter.split(' ')  # 문자열을 공백을 기준으로 나누어 리스트로 변환\n",
        "    answer = ''  # 모스 부호를 알파벳으로 변환한 문자열을 저장할 변수 초기화\n",
        "    for x in word:\n",
        "        answer += morse[x] # 모스 부호를 알파벳으로 변환하여 문자열에 추가\n",
        "    return answer\n",
        "\n",
        "result = solution(code)\n",
        "print(result)"
      ],
      "metadata": {
        "colab": {
          "base_uri": "https://localhost:8080/"
        },
        "id": "oZjIcIJ7LBkt",
        "outputId": "b319d653-5277-4ab3-be85-98284421043f"
      },
      "execution_count": 14,
      "outputs": [
        {
          "output_type": "stream",
          "name": "stdout",
          "text": [
            "lifeisshort\n"
          ]
        }
      ]
    },
    {
      "cell_type": "code",
      "source": [
        "# Q.3 10점\n",
        "#\n",
        "# 행성의 나이를 알파벳으로 표현할 때,\n",
        "# a는 0, b는 1, ..., j는 9\n",
        "# 예를 들어 cd는 23살, fb는 51살입니다.\n",
        "# age가 매개변수로 주어질 때\n",
        "# PROGEAMMER-857식 나이를 return 하도록\n",
        "# solution 함수를 완성하시오.\n",
        "#\n",
        "# 제한사항\n",
        "# age는 자연수입니다.\n",
        "# age ≤ 1,000\n",
        "# PROGRAMMERS-857 행성은 알파벳 소문자만 사용합니다.\n",
        "\n",
        "age = 857\n",
        "\n",
        "def solution(age):\n",
        "  alphabet = { '0': 'a', '1': 'b', '2': 'c', '3': 'd', '4': 'e',\n",
        "              '5': 'f', '6': 'g', '7': 'h', '8': 'i', '9': 'j'}\n",
        "\n",
        "  age_str = str(age)            # 나이를 문자열로 변환\n",
        "  answer = ''                  # 결과를 저장할 변수 초기화\n",
        "  for x in age_str:             # 나이의 각 자리 숫자에 대해 반복\n",
        "    if x in alphabet:           # 숫자가 알파벳 딕셔너리의 키로 존재하는 경우\n",
        "      answer += alphabet[x]   # 나이를 문자열로 변환하여 저장\n",
        "\n",
        "  return answer\n",
        "\n",
        "result = solution(age)\n",
        "print(result)"
      ],
      "metadata": {
        "colab": {
          "base_uri": "https://localhost:8080/"
        },
        "id": "cU6Rugx6LFmR",
        "outputId": "23d77aeb-38eb-4a1a-8012-42755b94b167"
      },
      "execution_count": 15,
      "outputs": [
        {
          "output_type": "stream",
          "name": "stdout",
          "text": [
            "ifh\n"
          ]
        }
      ]
    },
    {
      "cell_type": "markdown",
      "source": [],
      "metadata": {
        "id": "UP9Wwrl8vjDM"
      }
    },
    {
      "cell_type": "code",
      "source": [
        "# Q.4 10점\n",
        "#\n",
        "# x축과 y축으로 이루어진 2차원 직교 좌표계에 중심이 원점인\n",
        "# 서로 다른 크기의 원이 두 개 주어집니다.\n",
        "# 반지름을 나타내는 두 정수 r1, r2가 매개변수로 주어질 때,\n",
        "# 두 원 사이의 공간에 x좌표와 y좌표가 모두 정수인 점의 개수를\n",
        "# return하도록 solution 함수를 완성해주세요.\n",
        "# ※ 각 원 위의 점도 포함하여 셉니다.\n",
        "#\n",
        "# 제한사항\n",
        "# 1 ≤ r1 < r2 ≤ 1,000,000\n",
        "\n",
        "r1 = 3\n",
        "r2 = 5\n",
        "\n",
        "def solution(r1, r2):\n",
        "    answer = 0 # 점의 개수를 저장할 변수 초기화\n",
        "    for x in range(-r2, r2+1):\n",
        "        for y in range(-r2, r2+1):\n",
        "            # 현재 좌표 (x, y)의 원점으로부터의 거리\n",
        "            distance = x**2 + y**2\n",
        "\n",
        "            # 내부 원의 반지름(r1)과 외부 원의 반지름(r2) 사이에 있는지 확인\n",
        "            if r1**2 <= distance <= r2**2:\n",
        "                # 내부 원과 외부 원 사이에 있는 경우, 점의 개수를 증가\n",
        "                answer += 1\n",
        "    return answer\n",
        "\n",
        "result = solution(r1, r2)\n",
        "print(result)"
      ],
      "metadata": {
        "colab": {
          "base_uri": "https://localhost:8080/"
        },
        "id": "n8o7yZF-LKyy",
        "outputId": "a66f318e-a896-455a-8122-326226618c7e"
      },
      "execution_count": 16,
      "outputs": [
        {
          "output_type": "stream",
          "name": "stdout",
          "text": [
            "56\n"
          ]
        }
      ]
    },
    {
      "cell_type": "code",
      "source": [
        "# Q.5 10점\n",
        "#\n",
        "# 0 또는 양의 정수가 주어졌을 때,\n",
        "# 정수를 이어 붙여 만들 수 있는 가장 큰 수를 알아내 주세요.\n",
        "#\n",
        "# 예를 들어, 주어진 정수가 [6, 10, 2]라면\n",
        "# [6102, 6210, 1062, 1026, 2610, 2106]를 만들 수 있고,\n",
        "# 이중 가장 큰 수는 6210입니다.\n",
        "#\n",
        "# 0 또는 양의 정수가 담긴 배열 numbers가 매개변수로 주어질 때,\n",
        "# 순서를 재배치하여 만들 수 있는 가장 큰 수를 문자열로 바꾸어\n",
        "# return 하도록 solution 함수를 작성해주세요.\n",
        "#\n",
        "# 제한사항\n",
        "# numbers의 길이는 1 이상 100,000 이하입니다.\n",
        "# numbers의 원소는 0 이상 1,000 이하입니다.\n",
        "# 정답이 너무 클 수 있으니 문자열로 바꾸어 return 합니다.\n",
        "#\n",
        "# numbers = [8, 30, 17, 2, 23]\n",
        "\n",
        "numbers = [8, 30, 17, 2, 23]\n",
        "\n",
        "def solution(numbers):\n",
        "    # 숫자를 문자열로 변환하여 리스트에 저장\n",
        "    str_numbers = []\n",
        "    for num in numbers:\n",
        "        str_num = str(num)  # 숫자를 문자열로 변환\n",
        "        str_numbers.append(str_num)  # 변환된 문자열을 리스트에 추가\n",
        "\n",
        "    # 문자열 리스트를 내림차순으로 정렬\n",
        "    str_numbers.sort(reverse=True)\n",
        "\n",
        "    # 정렬된 문자열들을 이어붙임\n",
        "    answer = ''  # 정렬된 문자열을 저장할 변수 초기화\n",
        "    for num in str_numbers:\n",
        "        answer += num # 정렬된 문자열들을 이어붙여 answer 변수에 추가\n",
        "    return answer\n",
        "\n",
        "result = solution(numbers)\n",
        "print(result)"
      ],
      "metadata": {
        "colab": {
          "base_uri": "https://localhost:8080/"
        },
        "id": "joBc68-qLOX7",
        "outputId": "1ff7f2ca-07c3-4518-c65e-8bc9c8b85c4f"
      },
      "execution_count": 17,
      "outputs": [
        {
          "output_type": "stream",
          "name": "stdout",
          "text": [
            "83023217\n"
          ]
        }
      ]
    }
  ]
}